{
 "cells": [
  {
   "cell_type": "code",
   "execution_count": 1,
   "id": "606851a7",
   "metadata": {},
   "outputs": [],
   "source": [
    "import numpy as np\n",
    "import matplotlib.pyplot as plt\n",
    "import os\n",
    "import pandas as pd\n",
    "from tf.transformations import euler_from_quaternion"
   ]
  },
  {
   "cell_type": "code",
   "execution_count": 27,
   "id": "f56208c6",
   "metadata": {},
   "outputs": [],
   "source": [
    "# TODO: refactor this!\n",
    "\n",
    "def calculate_costs(cv):\n",
    "    n_misc = 15\n",
    "    ee_pos_goal_ = [0.65, -0.4, 0.0]\n",
    "    acc = cv[:, 14:21]\n",
    "    cop_x = cv[:,-n_misc]\n",
    "    cop_y = cv[:,-n_misc+1]\n",
    "\n",
    "    ee_pos_x = cv[:,-n_misc+2]\n",
    "    ee_pos_y = cv[:,-n_misc+3]\n",
    "    ee_pos_z = cv[:,-n_misc+4]\n",
    "\n",
    "    ee_rot_x = cv[:,-n_misc+5]\n",
    "    ee_rot_y = cv[:,-n_misc+6]\n",
    "    ee_rot_z = cv[:,-n_misc+7]\n",
    "    ee_rot_w = cv[:,-n_misc+8]\n",
    "    \n",
    "    x_size = 0.21\n",
    "    y_size = 0.13\n",
    "    sp_y_1 = cv[0, -2] - y_size/2\n",
    "    sp_y_2 = cv[0, -5] + y_size/2\n",
    "    sp_x_1 = max(cv[0, -6] - x_size/2, cv[0, -3] - x_size/2)\n",
    "    sp_x_2 = min(cv[0, -6] + x_size/2, cv[0, -3] + x_size/2)\n",
    "    \n",
    "    stability_cost = [0]*len(cop_x)\n",
    "    for i in range(len(cop_x)):\n",
    "        if cop_x[i] > sp_x_1 and cop_x[i] < sp_x_2 and cop_y[i] > sp_y_1 and cop_y[i] < sp_y_2:\n",
    "            if min(abs(sp_x_1-cop_x[i]), abs(sp_x_2-cop_x[i]), abs(sp_y_1-cop_y[i]), abs(sp_y_2-cop_y[i])) > 0.0095:\n",
    "                stability_cost[i] = (min(x_size/2, (sp_y_2-sp_y_1)/2) / (min(abs(sp_x_1-cop_x[i]), abs(sp_x_2-cop_x[i]), abs(sp_y_1-cop_y[i]), abs(sp_y_2-cop_y[i]))) - 1)**2\n",
    "            else:\n",
    "                stability_cost[i] = 100\n",
    "        else:\n",
    "            stability_cost[i] = 100\n",
    "    stability_cost = np.array(stability_cost)/100\n",
    "    \n",
    "    dist_to_goal = (np.sqrt((ee_pos_x[-1] - ee_pos_goal_[0])**2 + (ee_pos_y[-1]-ee_pos_goal_[1])**2 + (ee_pos_z[-1]-ee_pos_goal_[2])**2))\n",
    "  \n",
    "    desired_goal_euler = euler_from_quaternion(quaternion=[0.5, -0.5, -0.5, 0.5], axes='rxyz')\n",
    "    goal_euler = euler_from_quaternion(quaternion=[ee_rot_x[-1], ee_rot_y[-1], ee_rot_z[-1], ee_rot_w[-1]], axes='rxyz')\n",
    "    \n",
    "#     orientation_cost = np.sum(np.sqrt((goal_euler[0]-desired_goal_euler[0])**2+(goal_euler[1]-desired_goal_euler[1])**2+(goal_euler[2]-desired_goal_euler[2])**2)\n",
    "    orientation_cost = np.linalg.norm(np.array(goal_euler) - np.array(desired_goal_euler))\n",
    "#     q_desired_goal = quaternion.from_float_array([0.5, 0.5, -0.5, -0.5])\n",
    "#     q_goal = quaternion.from_float_array([ee_rot_w[-1], ee_rot_x[-1], ee_rot_y[-1], ee_rot_z[-1]])\n",
    "#     q_diff = q_goal * q_desired_goal.inverse()\n",
    "#     q_diff = quaternion.from_float_array(quaternion.as_float_array(q_diff) / np.linalg.norm(quaternion.as_float_array(q_diff)))\n",
    "#     orientation_cost = np.sum(np.abs(quaternion.as_rotation_vector(q_diff)[:2]))\n",
    "    \n",
    "    acc_sums = np.array([np.sum(acc[:,a])/len(acc[:,a]) for a in range(acc.shape[1])])\n",
    "    acc_cost = np.sum(acc_sums)/len(acc_sums)\n",
    "\n",
    "    \n",
    "    return np.sum(stability_cost)/len(stability_cost), dist_to_goal, orientation_cost, acc_cost"
   ]
  },
  {
   "cell_type": "code",
   "execution_count": 2,
   "id": "0c3fc84b",
   "metadata": {},
   "outputs": [],
   "source": [
    "cv = np.loadtxt(\"results_learning_wb_goal_covar_adapt_initial_traj_3_tau/updates_rarm/update00149/eval_cost_vars.txt\")\n",
    "n_misc = 15\n",
    "ee_rot_x = cv[:,-n_misc+5]\n",
    "ee_rot_y = cv[:,-n_misc+6]\n",
    "ee_rot_z = cv[:,-n_misc+7]\n",
    "ee_rot_w = cv[:,-n_misc+8]"
   ]
  },
  {
   "cell_type": "code",
   "execution_count": 5,
   "id": "2bbf2926",
   "metadata": {},
   "outputs": [],
   "source": [
    "desired_goal_euler = euler_from_quaternion(quaternion=[0.5, -0.5, -0.5, 0.5], axes='rxyz')\n",
    "goal_euler = euler_from_quaternion(quaternion=[ee_rot_x[-1], ee_rot_y[-1], ee_rot_z[-1], ee_rot_w[-1]], axes='rxyz')\n",
    "    \n",
    "orientation_cost = np.sum(np.sqrt((goal_euler[0]-desired_goal_euler[0])**2+(goal_euler[1]-desired_goal_euler[1])**2+(goal_euler[2]-desired_goal_euler[2])**2))\n"
   ]
  },
  {
   "cell_type": "code",
   "execution_count": 14,
   "id": "c0aa573b",
   "metadata": {},
   "outputs": [
    {
     "ename": "NameError",
     "evalue": "name 'files' is not defined",
     "output_type": "error",
     "traceback": [
      "\u001b[0;31m---------------------------------------------------------------------------\u001b[0m",
      "\u001b[0;31mNameError\u001b[0m                                 Traceback (most recent call last)",
      "\u001b[0;32m<ipython-input-14-efb248dcb684>\u001b[0m in \u001b[0;36m<module>\u001b[0;34m\u001b[0m\n\u001b[1;32m      5\u001b[0m \u001b[0morientation_cost\u001b[0m \u001b[0;34m=\u001b[0m \u001b[0;34m[\u001b[0m\u001b[0;34m]\u001b[0m\u001b[0;34m\u001b[0m\u001b[0;34m\u001b[0m\u001b[0m\n\u001b[1;32m      6\u001b[0m \u001b[0macceleration_cost\u001b[0m \u001b[0;34m=\u001b[0m \u001b[0;34m[\u001b[0m\u001b[0;34m]\u001b[0m\u001b[0;34m\u001b[0m\u001b[0;34m\u001b[0m\u001b[0m\n\u001b[0;32m----> 7\u001b[0;31m \u001b[0;32mfor\u001b[0m \u001b[0mf\u001b[0m \u001b[0;32min\u001b[0m \u001b[0mfiles\u001b[0m\u001b[0;34m:\u001b[0m\u001b[0;34m\u001b[0m\u001b[0;34m\u001b[0m\u001b[0m\n\u001b[0m\u001b[1;32m      8\u001b[0m     \u001b[0;32mif\u001b[0m \u001b[0;34m\"cost_vars\"\u001b[0m \u001b[0;32min\u001b[0m \u001b[0mf\u001b[0m\u001b[0;34m:\u001b[0m\u001b[0;34m\u001b[0m\u001b[0;34m\u001b[0m\u001b[0m\n\u001b[1;32m      9\u001b[0m         \u001b[0mcv\u001b[0m \u001b[0;34m=\u001b[0m \u001b[0mnp\u001b[0m\u001b[0;34m.\u001b[0m\u001b[0mloadtxt\u001b[0m\u001b[0;34m(\u001b[0m\u001b[0mupdate\u001b[0m\u001b[0;34m+\u001b[0m\u001b[0mf\u001b[0m\u001b[0;34m)\u001b[0m\u001b[0;34m\u001b[0m\u001b[0;34m\u001b[0m\u001b[0m\n",
      "\u001b[0;31mNameError\u001b[0m: name 'files' is not defined"
     ]
    }
   ],
   "source": [
    "# TODO: refactor this!\n",
    "\n",
    "stab_cost = []\n",
    "goal_cost = []\n",
    "orientation_cost = []\n",
    "acceleration_cost = []\n",
    "for f in files:\n",
    "    if \"cost_vars\" in f:\n",
    "        cv = np.loadtxt(update+f)\n",
    "        if (cv[-1,:] == 100).any():\n",
    "            print(f)\n",
    "        s, g, o, a = calculate_costs(cv)\n",
    "        stab_cost.append(s)\n",
    "        goal_cost.append(g)\n",
    "        orientation_cost.append(o)\n",
    "        acceleration_cost.append(a)\n",
    "df = pd.DataFrame(columns=[\"stab\", \"goal\", \"orientation\"])\n",
    "df[\"stab\"] = stab_cost\n",
    "df[\"goal\"] = goal_cost\n",
    "df[\"orientation_cost\"] = orientation_cost\n",
    "df.describe()"
   ]
  },
  {
   "cell_type": "code",
   "execution_count": 34,
   "id": "d0522c43",
   "metadata": {},
   "outputs": [
    {
     "ename": "OSError",
     "evalue": "results_learning_wb_goal_covar_adapt_initial_traj_6_dtw/updates_rarm/update00150/eval_cost_vars.txt not found.",
     "output_type": "error",
     "traceback": [
      "\u001b[0;31m---------------------------------------------------------------------------\u001b[0m",
      "\u001b[0;31mOSError\u001b[0m                                   Traceback (most recent call last)",
      "\u001b[0;32m<ipython-input-34-1b36c520ca79>\u001b[0m in \u001b[0;36m<module>\u001b[0;34m\u001b[0m\n\u001b[1;32m      8\u001b[0m \u001b[0;32mfor\u001b[0m \u001b[0mupdate\u001b[0m \u001b[0;32min\u001b[0m \u001b[0mupdates\u001b[0m\u001b[0;34m:\u001b[0m\u001b[0;34m\u001b[0m\u001b[0;34m\u001b[0m\u001b[0m\n\u001b[1;32m      9\u001b[0m     \u001b[0;32mif\u001b[0m \u001b[0;34m\"update0\"\u001b[0m \u001b[0;32min\u001b[0m \u001b[0mupdate\u001b[0m\u001b[0;34m:\u001b[0m\u001b[0;34m\u001b[0m\u001b[0;34m\u001b[0m\u001b[0m\n\u001b[0;32m---> 10\u001b[0;31m         \u001b[0mcv\u001b[0m \u001b[0;34m=\u001b[0m \u001b[0mnp\u001b[0m\u001b[0;34m.\u001b[0m\u001b[0mloadtxt\u001b[0m\u001b[0;34m(\u001b[0m\u001b[0mpath\u001b[0m\u001b[0;34m+\u001b[0m\u001b[0mupdate\u001b[0m\u001b[0;34m+\u001b[0m\u001b[0;34m\"/eval_cost_vars.txt\"\u001b[0m\u001b[0;34m)\u001b[0m\u001b[0;34m\u001b[0m\u001b[0;34m\u001b[0m\u001b[0m\n\u001b[0m\u001b[1;32m     11\u001b[0m         \u001b[0ms\u001b[0m\u001b[0;34m,\u001b[0m \u001b[0mg\u001b[0m\u001b[0;34m,\u001b[0m \u001b[0mo\u001b[0m\u001b[0;34m,\u001b[0m \u001b[0ma\u001b[0m \u001b[0;34m=\u001b[0m \u001b[0mcalculate_costs\u001b[0m\u001b[0;34m(\u001b[0m\u001b[0mcv\u001b[0m\u001b[0;34m)\u001b[0m\u001b[0;34m\u001b[0m\u001b[0;34m\u001b[0m\u001b[0m\n\u001b[1;32m     12\u001b[0m         \u001b[0mstab_cost\u001b[0m\u001b[0;34m.\u001b[0m\u001b[0mappend\u001b[0m\u001b[0;34m(\u001b[0m\u001b[0ms\u001b[0m\u001b[0;34m)\u001b[0m\u001b[0;34m\u001b[0m\u001b[0;34m\u001b[0m\u001b[0m\n",
      "\u001b[0;32m~/.local/lib/python3.6/site-packages/numpy/lib/npyio.py\u001b[0m in \u001b[0;36mloadtxt\u001b[0;34m(fname, dtype, comments, delimiter, converters, skiprows, usecols, unpack, ndmin, encoding, max_rows)\u001b[0m\n\u001b[1;32m    959\u001b[0m             \u001b[0mfname\u001b[0m \u001b[0;34m=\u001b[0m \u001b[0mos_fspath\u001b[0m\u001b[0;34m(\u001b[0m\u001b[0mfname\u001b[0m\u001b[0;34m)\u001b[0m\u001b[0;34m\u001b[0m\u001b[0;34m\u001b[0m\u001b[0m\n\u001b[1;32m    960\u001b[0m         \u001b[0;32mif\u001b[0m \u001b[0m_is_string_like\u001b[0m\u001b[0;34m(\u001b[0m\u001b[0mfname\u001b[0m\u001b[0;34m)\u001b[0m\u001b[0;34m:\u001b[0m\u001b[0;34m\u001b[0m\u001b[0;34m\u001b[0m\u001b[0m\n\u001b[0;32m--> 961\u001b[0;31m             \u001b[0mfh\u001b[0m \u001b[0;34m=\u001b[0m \u001b[0mnp\u001b[0m\u001b[0;34m.\u001b[0m\u001b[0mlib\u001b[0m\u001b[0;34m.\u001b[0m\u001b[0m_datasource\u001b[0m\u001b[0;34m.\u001b[0m\u001b[0mopen\u001b[0m\u001b[0;34m(\u001b[0m\u001b[0mfname\u001b[0m\u001b[0;34m,\u001b[0m \u001b[0;34m'rt'\u001b[0m\u001b[0;34m,\u001b[0m \u001b[0mencoding\u001b[0m\u001b[0;34m=\u001b[0m\u001b[0mencoding\u001b[0m\u001b[0;34m)\u001b[0m\u001b[0;34m\u001b[0m\u001b[0;34m\u001b[0m\u001b[0m\n\u001b[0m\u001b[1;32m    962\u001b[0m             \u001b[0mfencoding\u001b[0m \u001b[0;34m=\u001b[0m \u001b[0mgetattr\u001b[0m\u001b[0;34m(\u001b[0m\u001b[0mfh\u001b[0m\u001b[0;34m,\u001b[0m \u001b[0;34m'encoding'\u001b[0m\u001b[0;34m,\u001b[0m \u001b[0;34m'latin1'\u001b[0m\u001b[0;34m)\u001b[0m\u001b[0;34m\u001b[0m\u001b[0;34m\u001b[0m\u001b[0m\n\u001b[1;32m    963\u001b[0m             \u001b[0mfh\u001b[0m \u001b[0;34m=\u001b[0m \u001b[0miter\u001b[0m\u001b[0;34m(\u001b[0m\u001b[0mfh\u001b[0m\u001b[0;34m)\u001b[0m\u001b[0;34m\u001b[0m\u001b[0;34m\u001b[0m\u001b[0m\n",
      "\u001b[0;32m~/.local/lib/python3.6/site-packages/numpy/lib/_datasource.py\u001b[0m in \u001b[0;36mopen\u001b[0;34m(path, mode, destpath, encoding, newline)\u001b[0m\n\u001b[1;32m    193\u001b[0m \u001b[0;34m\u001b[0m\u001b[0m\n\u001b[1;32m    194\u001b[0m     \u001b[0mds\u001b[0m \u001b[0;34m=\u001b[0m \u001b[0mDataSource\u001b[0m\u001b[0;34m(\u001b[0m\u001b[0mdestpath\u001b[0m\u001b[0;34m)\u001b[0m\u001b[0;34m\u001b[0m\u001b[0;34m\u001b[0m\u001b[0m\n\u001b[0;32m--> 195\u001b[0;31m     \u001b[0;32mreturn\u001b[0m \u001b[0mds\u001b[0m\u001b[0;34m.\u001b[0m\u001b[0mopen\u001b[0m\u001b[0;34m(\u001b[0m\u001b[0mpath\u001b[0m\u001b[0;34m,\u001b[0m \u001b[0mmode\u001b[0m\u001b[0;34m,\u001b[0m \u001b[0mencoding\u001b[0m\u001b[0;34m=\u001b[0m\u001b[0mencoding\u001b[0m\u001b[0;34m,\u001b[0m \u001b[0mnewline\u001b[0m\u001b[0;34m=\u001b[0m\u001b[0mnewline\u001b[0m\u001b[0;34m)\u001b[0m\u001b[0;34m\u001b[0m\u001b[0;34m\u001b[0m\u001b[0m\n\u001b[0m\u001b[1;32m    196\u001b[0m \u001b[0;34m\u001b[0m\u001b[0m\n\u001b[1;32m    197\u001b[0m \u001b[0;34m\u001b[0m\u001b[0m\n",
      "\u001b[0;32m~/.local/lib/python3.6/site-packages/numpy/lib/_datasource.py\u001b[0m in \u001b[0;36mopen\u001b[0;34m(self, path, mode, encoding, newline)\u001b[0m\n\u001b[1;32m    533\u001b[0m                                       encoding=encoding, newline=newline)\n\u001b[1;32m    534\u001b[0m         \u001b[0;32melse\u001b[0m\u001b[0;34m:\u001b[0m\u001b[0;34m\u001b[0m\u001b[0;34m\u001b[0m\u001b[0m\n\u001b[0;32m--> 535\u001b[0;31m             \u001b[0;32mraise\u001b[0m \u001b[0mIOError\u001b[0m\u001b[0;34m(\u001b[0m\u001b[0;34m\"%s not found.\"\u001b[0m \u001b[0;34m%\u001b[0m \u001b[0mpath\u001b[0m\u001b[0;34m)\u001b[0m\u001b[0;34m\u001b[0m\u001b[0;34m\u001b[0m\u001b[0m\n\u001b[0m\u001b[1;32m    536\u001b[0m \u001b[0;34m\u001b[0m\u001b[0m\n\u001b[1;32m    537\u001b[0m \u001b[0;34m\u001b[0m\u001b[0m\n",
      "\u001b[0;31mOSError\u001b[0m: results_learning_wb_goal_covar_adapt_initial_traj_6_dtw/updates_rarm/update00150/eval_cost_vars.txt not found."
     ]
    }
   ],
   "source": [
    "stab_cost = []\n",
    "goal_cost = []\n",
    "orientation_cost = []\n",
    "acceleration_cost = []\n",
    "\n",
    "path = \"results_learning_wb_goal_covar_adapt_initial_traj_6_dtw/updates_rarm/\"\n",
    "updates = np.sort(os.listdir(path))\n",
    "for update in updates:\n",
    "    if \"update0\" in update:\n",
    "        cv = np.loadtxt(path+update+\"/eval_cost_vars.txt\")\n",
    "        s, g, o, a = calculate_costs(cv)\n",
    "        stab_cost.append(s)\n",
    "        goal_cost.append(g)\n",
    "        orientation_cost.append(o)\n",
    "        acceleration_cost.append(a)"
   ]
  },
  {
   "cell_type": "code",
   "execution_count": 38,
   "id": "8d969631",
   "metadata": {},
   "outputs": [
    {
     "data": {
      "text/plain": [
       "[<matplotlib.lines.Line2D at 0x7fdaeb659e48>]"
      ]
     },
     "execution_count": 38,
     "metadata": {},
     "output_type": "execute_result"
    },
    {
     "data": {
      "image/png": "[encoded data removed]",
      "text/plain": [
       "<Figure size 432x288 with 1 Axes>"
      ]
     },
     "metadata": {
      "needs_background": "light"
     },
     "output_type": "display_data"
    }
   ],
   "source": [
    "plt.plot(np.array(orientation_cost)[1:]*0.3)"
   ]
  },
  {
   "cell_type": "code",
   "execution_count": null,
   "id": "2433d1c3",
   "metadata": {},
   "outputs": [],
   "source": [
    "           \n",
    "    \n",
    "# roll = pi/2\n",
    "# pitch = 0\n",
    "# yaw = -pi/2           \n",
    "# goal_orientation = (np.sqrt((ee_rpy_x[-1] - roll)**2 + (ee_rpy_y[-1]-pitch)**2 + (ee_rpy_z[-1] - yaw)**2))"
   ]
  }
 ],
 "metadata": {
  "kernelspec": {
   "display_name": "Python 3",
   "language": "python",
   "name": "python3"
  },
  "language_info": {
   "codemirror_mode": {
    "name": "ipython",
    "version": 3
   },
   "file_extension": ".py",
   "mimetype": "text/x-python",
   "name": "python",
   "nbconvert_exporter": "python",
   "pygments_lexer": "ipython3",
   "version": "3.6.9"
  }
 },
 "nbformat": 4,
 "nbformat_minor": 5
}
